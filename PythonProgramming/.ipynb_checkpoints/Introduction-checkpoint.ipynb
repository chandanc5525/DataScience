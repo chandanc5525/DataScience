{
 "cells": [
  {
   "cell_type": "markdown",
   "id": "2e06b0f2",
   "metadata": {},
   "source": [
    "### Introduction to Python Programming"
   ]
  },
  {
   "cell_type": "code",
   "execution_count": 1,
   "id": "87fc93dd",
   "metadata": {},
   "outputs": [
    {
     "name": "stdout",
     "output_type": "stream",
     "text": [
      "<class 'int'>\n",
      "<class 'float'>\n",
      "<class 'str'>\n"
     ]
    }
   ],
   "source": [
    "# Variable Defintion \n",
    "\n",
    "number  = 1000         # Defining Integer Variable\n",
    "decimal = 1000.890     # Defining Float Variable : Decimal Values\n",
    "string = 'Hello World' # Defining String: \"Text Information\"\n",
    "\n",
    "''' \n",
    "Data types in Python are as follows:\n",
    "1. Integer\n",
    "2. Float\n",
    "3. String\n",
    "''' \n",
    "# Checking Datatype of variables\n",
    "print(type(number))\n",
    "print(type(decimal))\n",
    "print(type(string))"
   ]
  },
  {
   "cell_type": "code",
   "execution_count": 2,
   "id": "7fe18b20-4966-4b7c-80eb-0d22d081034f",
   "metadata": {},
   "outputs": [
    {
     "name": "stdout",
     "output_type": "stream",
     "text": [
      "100\n"
     ]
    }
   ],
   "source": [
    "# Type casting of Data type\n",
    "\n",
    "num = 100.2908383  # Datatype : Float\n",
    "\n",
    "print(int(num))    # float is typecasted to int"
   ]
  },
  {
   "cell_type": "code",
   "execution_count": 3,
   "id": "d971785a-8de9-4ac3-93b4-274333415533",
   "metadata": {},
   "outputs": [
    {
     "name": "stdin",
     "output_type": "stream",
     "text": [
      "Enter the Value:  1000\n"
     ]
    },
    {
     "name": "stdout",
     "output_type": "stream",
     "text": [
      "<class 'str'>\n",
      "1000\n",
      "1000.0\n"
     ]
    }
   ],
   "source": [
    "# Using input function\n",
    "# input()  :---> Function\n",
    "num = input('Enter the Value: ')\n",
    "'''\n",
    "Whenever we use input function, the output of input function is always string\n",
    "'''\n",
    "print(type(num))\n",
    "# Doing Typecasting\n",
    "print(int(num))    # Typecasting string value to integer\n",
    "print(float(num))  # Typecasting string value to float"
   ]
  },
  {
   "cell_type": "code",
   "execution_count": 4,
   "id": "8ec1f187-c26c-499f-913a-4f276e08cd3d",
   "metadata": {},
   "outputs": [
    {
     "name": "stdin",
     "output_type": "stream",
     "text": [
      "Enter the name of the person:  Rohit Sharma\n"
     ]
    },
    {
     "name": "stdout",
     "output_type": "stream",
     "text": [
      "<class 'str'>\n"
     ]
    }
   ],
   "source": [
    "# Ask the user to enter the string using input function\n",
    "\n",
    "str = input('Enter the name of the person: ')\n",
    "\n",
    "print(type(str))"
   ]
  },
  {
   "cell_type": "code",
   "execution_count": null,
   "id": "c595b1f1-b9ea-44d2-a017-71462d295fbe",
   "metadata": {},
   "outputs": [],
   "source": []
  }
 ],
 "metadata": {
  "kernelspec": {
   "display_name": "Python 3 (ipykernel)",
   "language": "python",
   "name": "python3"
  },
  "language_info": {
   "codemirror_mode": {
    "name": "ipython",
    "version": 3
   },
   "file_extension": ".py",
   "mimetype": "text/x-python",
   "name": "python",
   "nbconvert_exporter": "python",
   "pygments_lexer": "ipython3",
   "version": "3.12.7"
  }
 },
 "nbformat": 4,
 "nbformat_minor": 5
}
