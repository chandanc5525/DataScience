{
 "cells": [
  {
   "cell_type": "markdown",
   "id": "2e06b0f2",
   "metadata": {},
   "source": [
    "### Introduction to Python Programming"
   ]
  },
  {
   "cell_type": "code",
   "execution_count": 1,
   "id": "87fc93dd",
   "metadata": {},
   "outputs": [
    {
     "name": "stdout",
     "output_type": "stream",
     "text": [
      "<class 'int'>\n",
      "<class 'float'>\n",
      "<class 'str'>\n"
     ]
    }
   ],
   "source": [
    "# Variable Defintion \n",
    "\n",
    "number  = 1000         # Defining Integer Variable\n",
    "decimal = 1000.890     # Defining Float Variable : Decimal Values\n",
    "string = 'Hello World' # Defining String: \"Text Information\"\n",
    "\n",
    "''' \n",
    "Data types in Python are as follows:\n",
    "1. Integer\n",
    "2. Float\n",
    "3. String\n",
    "''' \n",
    "# Checking Datatype of variables\n",
    "print(type(number))\n",
    "print(type(decimal))\n",
    "print(type(string))"
   ]
  },
  {
   "cell_type": "code",
   "execution_count": 2,
   "id": "7fe18b20-4966-4b7c-80eb-0d22d081034f",
   "metadata": {},
   "outputs": [
    {
     "name": "stdout",
     "output_type": "stream",
     "text": [
      "100\n"
     ]
    }
   ],
   "source": [
    "# Type casting of Data type\n",
    "\n",
    "num = 100.2908383  # Datatype : Float\n",
    "\n",
    "print(int(num))    # float is typecasted to int"
   ]
  },
  {
   "cell_type": "code",
   "execution_count": 3,
   "id": "d971785a-8de9-4ac3-93b4-274333415533",
   "metadata": {},
   "outputs": [
    {
     "name": "stdout",
     "output_type": "stream",
     "text": [
      "<class 'str'>\n",
      "1000\n",
      "1000.0\n"
     ]
    }
   ],
   "source": [
    "# Using input function\n",
    "# input()  :---> Function\n",
    "num = input('Enter the Value: ')\n",
    "'''\n",
    "Whenever we use input function, the output of input function is always string\n",
    "'''\n",
    "print(type(num))\n",
    "# Doing Typecasting\n",
    "print(int(num))    # Typecasting string value to integer\n",
    "print(float(num))  # Typecasting string value to float"
   ]
  },
  {
   "cell_type": "code",
   "execution_count": 4,
   "id": "8ec1f187-c26c-499f-913a-4f276e08cd3d",
   "metadata": {},
   "outputs": [
    {
     "name": "stdout",
     "output_type": "stream",
     "text": [
      "<class 'str'>\n"
     ]
    }
   ],
   "source": [
    "# Ask the user to enter the string using input function\n",
    "\n",
    "str = input('Enter the name of the person: ')\n",
    "\n",
    "print(type(str))"
   ]
  },
  {
   "cell_type": "code",
   "execution_count": 6,
   "id": "c595b1f1-b9ea-44d2-a017-71462d295fbe",
   "metadata": {},
   "outputs": [
    {
     "name": "stdout",
     "output_type": "stream",
     "text": [
      "The addition of two numbers as 100.0 and 200.0 is  300.0\n"
     ]
    }
   ],
   "source": [
    "# Perform Mathmatical Operations\n",
    "\n",
    "num1 = float(input('Enter the First Number: '))\n",
    "num2 = float(input('Enter the Second Number: '))\n",
    "\n",
    "num3 = num1 + num2\n",
    "\n",
    "# Using fstring method \n",
    "\n",
    "print(f'The addition of two numbers as {num1} and {num2} is ',num3)\n"
   ]
  },
  {
   "cell_type": "code",
   "execution_count": 7,
   "id": "9cb85ff3",
   "metadata": {},
   "outputs": [
    {
     "name": "stdout",
     "output_type": "stream",
     "text": [
      "W\n",
      "W\n"
     ]
    }
   ],
   "source": [
    "# Strings Indexing and Slicing\n",
    "\n",
    "string = input('Enter the String :')\n",
    "\n",
    "''' \n",
    "H e l l o   W o r l d\n",
    "0 1 2 3 4 5 6 7 8 9 10 : L ---> R\n",
    "..............-3 -2 -1 : R ---> L\n",
    "\n",
    "'''\n",
    "print(string[6])   # Indexing\n",
    "print(string[-5])  # Indexing"
   ]
  },
  {
   "cell_type": "code",
   "execution_count": 8,
   "id": "51ed75f8",
   "metadata": {},
   "outputs": [
    {
     "name": "stdout",
     "output_type": "stream",
     "text": [
      "ell\n",
      "Hello Worl\n",
      "llo Wor\n",
      "o Worl\n"
     ]
    }
   ],
   "source": [
    "# Concept of Slicing \n",
    "string = input('Enter the String :')\n",
    "''' \n",
    "string[Start:Stop]\n",
    "Example:\n",
    "string = Hello World\n",
    "string[1:4] ---> o/p:--> e\n",
    "'''\n",
    "\n",
    "print(string[1:4])\n",
    "print(string[:-1])\n",
    "print(string[2:-2])\n",
    "print(string[4:-1])"
   ]
  },
  {
   "cell_type": "code",
   "execution_count": 9,
   "id": "dbb31f7c",
   "metadata": {},
   "outputs": [
    {
     "name": "stdout",
     "output_type": "stream",
     "text": [
      "el ol\n"
     ]
    }
   ],
   "source": [
    "# Concept of Slicing \n",
    "string = input('Enter the String :')\n",
    "''' \n",
    "string[Start:Stop:Step]\n",
    "Example:\n",
    "string = Hello World\n",
    "string[1::2] ---> o/p:--> el\n",
    "'''\n",
    "print(string[1::2])"
   ]
  },
  {
   "cell_type": "code",
   "execution_count": 10,
   "id": "72848ec8",
   "metadata": {},
   "outputs": [
    {
     "name": "stdout",
     "output_type": "stream",
     "text": [
      "HloWloet h ol fpto rgamn\n",
      "o Welcome to the world of python programmi\n",
      "gnimmargorp nohtyp fo dlrow eht ot emocleW olleH\n"
     ]
    }
   ],
   "source": [
    "# Concept of Indexing and Slicing Together\n",
    "\n",
    "str = 'Hello Welcome to the world of python programming'\n",
    "print(str[::2])\n",
    "print(str[4:-2:])\n",
    "print(str[::-1])"
   ]
  },
  {
   "cell_type": "code",
   "execution_count": 11,
   "id": "70d981ab",
   "metadata": {},
   "outputs": [
    {
     "name": "stdout",
     "output_type": "stream",
     "text": [
      "[10, 20, 30, 40]\n",
      "<class 'list'>\n",
      "[10, 20, 30, 40, 50]\n"
     ]
    }
   ],
   "source": [
    "# Data Structures in Python Pogramming\n",
    "''' \n",
    "1. List : [] : Mutable in Nature \n",
    "2. Tuple : () : Immmutable in Nature\n",
    "3. Dictionary : {'key1': Value1, 'key2':value2}  : Immutable in Nature\n",
    "4. Sets       : {1,2,3,4,5} : Immutable in Nature  \n",
    "\n",
    "'''\n",
    "# List Definition\n",
    "\n",
    "lst = [10,20,30,40]\n",
    "\n",
    "print(lst)\n",
    "print(type(lst))\n",
    "# append() this is function which defined in class list\n",
    "# Therefore, append() is a method of class list\n",
    "# lst.append(50) : You are calling function using .operator\n",
    "lst.append(50)\n",
    "print(lst)"
   ]
  },
  {
   "cell_type": "code",
   "execution_count": null,
   "id": "1d48d063",
   "metadata": {},
   "outputs": [],
   "source": []
  }
 ],
 "metadata": {
  "kernelspec": {
   "display_name": "base",
   "language": "python",
   "name": "python3"
  },
  "language_info": {
   "codemirror_mode": {
    "name": "ipython",
    "version": 3
   },
   "file_extension": ".py",
   "mimetype": "text/x-python",
   "name": "python",
   "nbconvert_exporter": "python",
   "pygments_lexer": "ipython3",
   "version": "3.12.7"
  }
 },
 "nbformat": 4,
 "nbformat_minor": 5
}
